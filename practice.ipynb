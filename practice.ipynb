{
 "cells": [
  {
   "cell_type": "code",
   "execution_count": 1,
   "id": "117e3535-04f3-4e86-8af8-1dace79741c9",
   "metadata": {},
   "outputs": [
    {
     "name": "stdout",
     "output_type": "stream",
     "text": [
      "<class 'pandas.core.frame.DataFrame'>\n",
      "RangeIndex: 40 entries, 0 to 39\n",
      "Data columns (total 2 columns):\n",
      " #   Column        Non-Null Count  Dtype \n",
      "---  ------        --------------  ----- \n",
      " 0   company_code  40 non-null     object\n",
      " 1   company_name  40 non-null     object\n",
      "dtypes: object(2)\n",
      "memory usage: 768.0+ bytes\n"
     ]
    }
   ],
   "source": [
    "import pandas as pd\n",
    "\n",
    "stocks_data_path = \"DataIngestion/src/data/stocklist.csv\"\n",
    "stocks_list = pd.read_csv(stocks_data_path)\n",
    "stocks_list.info()"
   ]
  },
  {
   "cell_type": "code",
   "execution_count": 2,
   "id": "086e1069-6732-4fb8-97bd-83f6bf296874",
   "metadata": {},
   "outputs": [
    {
     "data": {
      "text/html": [
       "<div>\n",
       "<style scoped>\n",
       "    .dataframe tbody tr th:only-of-type {\n",
       "        vertical-align: middle;\n",
       "    }\n",
       "\n",
       "    .dataframe tbody tr th {\n",
       "        vertical-align: top;\n",
       "    }\n",
       "\n",
       "    .dataframe thead th {\n",
       "        text-align: right;\n",
       "    }\n",
       "</style>\n",
       "<table border=\"1\" class=\"dataframe\">\n",
       "  <thead>\n",
       "    <tr style=\"text-align: right;\">\n",
       "      <th></th>\n",
       "      <th>company_code</th>\n",
       "      <th>company_name</th>\n",
       "    </tr>\n",
       "  </thead>\n",
       "  <tbody>\n",
       "    <tr>\n",
       "      <th>0</th>\n",
       "      <td>ADANIPORTS.NS</td>\n",
       "      <td>Adani Ports &amp; SEZ Ltd.</td>\n",
       "    </tr>\n",
       "    <tr>\n",
       "      <th>1</th>\n",
       "      <td>ASIANPAINT.NS</td>\n",
       "      <td>Asian Paints Ltd.</td>\n",
       "    </tr>\n",
       "    <tr>\n",
       "      <th>2</th>\n",
       "      <td>AXISBANK.NS</td>\n",
       "      <td>Axis Bank Ltd.</td>\n",
       "    </tr>\n",
       "    <tr>\n",
       "      <th>3</th>\n",
       "      <td>BAJAJ-AUTO.NS</td>\n",
       "      <td>Bajaj Auto Ltd.</td>\n",
       "    </tr>\n",
       "    <tr>\n",
       "      <th>4</th>\n",
       "      <td>BAJFINANCE.NS</td>\n",
       "      <td>Bajaj Finance Ltd.</td>\n",
       "    </tr>\n",
       "  </tbody>\n",
       "</table>\n",
       "</div>"
      ],
      "text/plain": [
       "    company_code            company_name\n",
       "0  ADANIPORTS.NS  Adani Ports & SEZ Ltd.\n",
       "1  ASIANPAINT.NS       Asian Paints Ltd.\n",
       "2    AXISBANK.NS          Axis Bank Ltd.\n",
       "3  BAJAJ-AUTO.NS         Bajaj Auto Ltd.\n",
       "4  BAJFINANCE.NS      Bajaj Finance Ltd."
      ]
     },
     "execution_count": 2,
     "metadata": {},
     "output_type": "execute_result"
    }
   ],
   "source": [
    "stocks_list.head()"
   ]
  },
  {
   "cell_type": "code",
   "execution_count": 3,
   "id": "eba4e6aa-e7c4-4dee-89cd-cc947ab775fc",
   "metadata": {},
   "outputs": [],
   "source": [
    "import aiohttp\n",
    "import nest_asyncio"
   ]
  },
  {
   "cell_type": "code",
   "execution_count": 4,
   "id": "272add15-2d10-46db-84bd-6d11c053f302",
   "metadata": {},
   "outputs": [
    {
     "data": {
      "text/plain": [
       "40"
      ]
     },
     "execution_count": 4,
     "metadata": {},
     "output_type": "execute_result"
    }
   ],
   "source": [
    "len(stocks_list)"
   ]
  },
  {
   "cell_type": "code",
   "execution_count": 5,
   "id": "972332c4-3c36-4dd5-8120-ab7cc3c07d8f",
   "metadata": {},
   "outputs": [
    {
     "name": "stdout",
     "output_type": "stream",
     "text": [
      "2023-11-26 19:18:32.787342 2003-11-26 19:18:32.787342\n"
     ]
    }
   ],
   "source": [
    "from datetime import datetime, timedelta\n",
    "\n",
    "# Current date\n",
    "current_date = datetime.now()\n",
    "\n",
    "# Date 20 years back\n",
    "date_20_years_back = current_date - timedelta(days=365.25 * 20)\n",
    "print(current_date, date_20_years_back)"
   ]
  },
  {
   "cell_type": "code",
   "execution_count": 6,
   "id": "d76633fe-2a32-413f-af3b-a45f0e3b4e4a",
   "metadata": {},
   "outputs": [
    {
     "name": "stdout",
     "output_type": "stream",
     "text": [
      "Start timestamp: 1069785000\n",
      "End timestamp: 1701023399\n",
      "Failed to download data for INFRATEL.NS. HTTP status: 404\n"
     ]
    }
   ],
   "source": [
    "import asyncio\n",
    "import aiohttp\n",
    "import pandas as pd\n",
    "import io\n",
    "from typing import List, Dict, Any\n",
    "from datetime import datetime, timedelta\n",
    "\n",
    "\n",
    "nest_asyncio.apply()\n",
    "\n",
    "def get_timestamp_today():\n",
    "\n",
    "    # # Get today's date\n",
    "    # today = pd.Timestamp.today()\n",
    "    current_date = datetime.now()\n",
    "\n",
    "    # Date 20 years back\n",
    "    date_20_years_back = current_date - timedelta(days=365.25 * 20)\n",
    "    # Get the timestamp of today's beginning\n",
    "    # start_ts = int(current_date.replace(hour=0, minute=0, second=0, microsecond=0).timestamp())\n",
    "    start_ts = int(date_20_years_back.replace(hour=0, minute=0, second=0, microsecond=0).timestamp())\n",
    "\n",
    "    # Get the timestamp of today's end\n",
    "    # end_ts = int(date_20_years_back.replace(hour=23, minute=59, second=59, microsecond=999).timestamp())\n",
    "    end_ts = int(current_date.replace(hour=23, minute=59, second=59, microsecond=999).timestamp())\n",
    "    \n",
    "\n",
    "    print(\"Start timestamp:\", start_ts)\n",
    "    print(\"End timestamp:\", end_ts)\n",
    "    return start_ts, end_ts\n",
    "\n",
    "\n",
    "# Define URL template\n",
    "URL = \"https://query1.finance.yahoo.com/v7/finance/download/{0}?period1={1}&period2={2}&interval=1d&events=history\"\n",
    "\n",
    "async def download_stock_data(session: aiohttp.ClientSession, company_code: str, company_name: str, start_date: int, end_date: int) -> pd.DataFrame:\n",
    "    \"\"\"\n",
    "    Asynchronously downloads stock data for a given company_code between start and end dates.\n",
    "\n",
    "    :param session: aiohttp.ClientSession object for making HTTP requests.\n",
    "    :param company_code: Stock company_code.\n",
    "    :param start_date: Start date as a timestamp.\n",
    "    :param end_date: End date as a timestamp.\n",
    "    :return: DataFrame with stock data.\n",
    "    \"\"\"\n",
    "    url = URL.format(company_code, start_date, end_date)\n",
    "    try:\n",
    "        async with session.get(url) as response:\n",
    "            if response.status == 200:\n",
    "                data = await response.text()\n",
    "                df = pd.read_csv(io.StringIO(data))\n",
    "                df['company_name'] = company_name\n",
    "                df['company_code'] = company_code.split('.NS')[0]\n",
    "                return df\n",
    "            else:\n",
    "                print(f\"Failed to download data for {company_code}. HTTP status: {response.status}\")\n",
    "                return None\n",
    "    except Exception as e:\n",
    "        raise Exception(f\"An error occurred while downloading data for {company_code}: {e}\")\n",
    "\n",
    "\n",
    "async def download_job(stocks_list: pd.DataFrame) -> pd.DataFrame:\n",
    "    \"\"\"\n",
    "    Main function to download stock data for multiple company_codes.\n",
    "\n",
    "    :param stocks_list: DataFrame containing stock company_codes.\n",
    "    :param start_date: Start date in 'YYYY-MM-DD' format.\n",
    "    :param end_date: End date in 'YYYY-MM-DD' format.\n",
    "    :return: DataFrame with combined stock data.\n",
    "    \"\"\"\n",
    "    # start_ts = int(pd.to_datetime(start_date).timestamp())\n",
    "    # end_ts = int(pd.to_datetime(end_date).timestamp())\n",
    "\n",
    "    start_ts, end_ts = get_timestamp_today()\n",
    "\n",
    "    async with aiohttp.ClientSession() as session:\n",
    "        tasks = [asyncio.create_task(download_stock_data(session, row['company_code'], row['company_name'], start_ts, end_ts)) for _, row in stocks_list.iterrows()]\n",
    "        nifty_data_list = await asyncio.gather(*tasks)\n",
    "        nifty_data_list = [item for item in nifty_data_list if item is not None]\n",
    "\n",
    "        if len(nifty_data_list) == 0:\n",
    "            raise Exception(\"There is no data\")\n",
    "        \n",
    "        nifty_data_df = pd.concat([item for item in nifty_data_list if item is not None], ignore_index=True, axis=0)\n",
    "        nifty_data_df['Date'] = pd.to_datetime(nifty_data_df['Date'])\n",
    "        nifty_data_df['year'] = nifty_data_df['Date'].dt.year\n",
    "        nifty_data_df['month'] = nifty_data_df['Date'].dt.month\n",
    "        nifty_data_df['day'] = nifty_data_df['Date'].dt.day\n",
    "\n",
    "        return nifty_data_df\n",
    "\n",
    "# # Example usage\n",
    "# stocks_list = pd.DataFrame({\n",
    "#     'Symbol': ['ADANIPORTS.NS', 'BAJAJ-AUTO.NS'],\n",
    "#     'Company Name': ['Adani Ports', 'Bajaj Auto Ltd.']\n",
    "# })\n",
    "\n",
    "# start_date = '2023-11-19'\n",
    "# end_date = '2023-11-19'\n",
    "\n",
    "# Run the asynchronous main function\n",
    "# nifty_data_list = asyncio.run(main(stocks_list, start_date, end_date))\n",
    "\n",
    "loop = asyncio.get_event_loop()\n",
    "\n",
    "# Run the main function within the existing event loop\n",
    "final_nifty_data_df = loop.run_until_complete(download_job(stocks_list))\n"
   ]
  },
  {
   "cell_type": "code",
   "execution_count": 7,
   "id": "b427ad46-2805-45d6-a6e0-962d00b3d3fc",
   "metadata": {},
   "outputs": [
    {
     "name": "stdout",
     "output_type": "stream",
     "text": [
      "<class 'pandas.core.frame.DataFrame'>\n",
      "RangeIndex: 182108 entries, 0 to 182107\n",
      "Data columns (total 12 columns):\n",
      " #   Column        Non-Null Count   Dtype         \n",
      "---  ------        --------------   -----         \n",
      " 0   Date          182108 non-null  datetime64[ns]\n",
      " 1   Open          181797 non-null  float64       \n",
      " 2   High          181797 non-null  float64       \n",
      " 3   Low           181797 non-null  float64       \n",
      " 4   Close         181797 non-null  float64       \n",
      " 5   Adj Close     181797 non-null  float64       \n",
      " 6   Volume        181797 non-null  float64       \n",
      " 7   company_name  182108 non-null  object        \n",
      " 8   company_code  182108 non-null  object        \n",
      " 9   year          182108 non-null  int32         \n",
      " 10  month         182108 non-null  int32         \n",
      " 11  day           182108 non-null  int32         \n",
      "dtypes: datetime64[ns](1), float64(6), int32(3), object(2)\n",
      "memory usage: 14.6+ MB\n"
     ]
    }
   ],
   "source": [
    "final_nifty_data_df.info()"
   ]
  },
  {
   "cell_type": "code",
   "execution_count": 8,
   "id": "66d2079f-4fbd-4547-9c57-64831bb7a69c",
   "metadata": {},
   "outputs": [
    {
     "name": "stdout",
     "output_type": "stream",
     "text": [
      "<class 'pandas.core.frame.DataFrame'>\n",
      "RangeIndex: 182108 entries, 0 to 182107\n",
      "Data columns (total 12 columns):\n",
      " #   Column        Non-Null Count   Dtype         \n",
      "---  ------        --------------   -----         \n",
      " 0   Date          182108 non-null  datetime64[ns]\n",
      " 1   Open          181797 non-null  float64       \n",
      " 2   High          181797 non-null  float64       \n",
      " 3   Low           181797 non-null  float64       \n",
      " 4   Close         181797 non-null  float64       \n",
      " 5   Adj Close     181797 non-null  float64       \n",
      " 6   Volume        181797 non-null  float64       \n",
      " 7   company_name  182108 non-null  object        \n",
      " 8   company_code  182108 non-null  object        \n",
      " 9   year          182108 non-null  int32         \n",
      " 10  month         182108 non-null  int32         \n",
      " 11  day           182108 non-null  int32         \n",
      "dtypes: datetime64[ns](1), float64(6), int32(3), object(2)\n",
      "memory usage: 14.6+ MB\n"
     ]
    }
   ],
   "source": [
    "final_nifty_data_df.info()"
   ]
  },
  {
   "cell_type": "code",
   "execution_count": 9,
   "id": "0dfd5e92-c1ec-4183-895f-0a60c30e9f70",
   "metadata": {},
   "outputs": [],
   "source": [
    "hello = final_nifty_data_df.to_csv('stock_data/stocks.csv',index=False)"
   ]
  },
  {
   "cell_type": "code",
   "execution_count": 10,
   "id": "013894d4-f26e-458a-8db6-9ddddea65b9c",
   "metadata": {},
   "outputs": [
    {
     "data": {
      "text/plain": [
       "array(['ADANIPORTS', 'ASIANPAINT', 'AXISBANK', 'BAJAJ-AUTO', 'BAJFINANCE',\n",
       "       'BAJAJFINSV', 'BPCL', 'BHARTIARTL', 'CIPLA', 'COALINDIA',\n",
       "       'DRREDDY', 'EICHERMOT', 'GAIL', 'GRASIM', 'HCLTECH', 'HDFCBANK',\n",
       "       'HEROMOTOCO', 'HINDALCO', 'HINDPETRO', 'HINDUNILVR', 'ITC',\n",
       "       'ICICIBANK', 'IBULHSGFIN', 'IOC', 'INDUSINDBK', 'INFY', 'JSWSTEEL',\n",
       "       'KOTAKBANK', 'LT', 'M&M', 'MARUTI', 'NTPC', 'ONGC', 'POWERGRID',\n",
       "       'RELIANCE', 'SBIN', 'SUNPHARMA', 'TCS'], dtype=object)"
      ]
     },
     "execution_count": 10,
     "metadata": {},
     "output_type": "execute_result"
    }
   ],
   "source": [
    "final_nifty_data_df[final_nifty_data_df.Volume.isna()].company_code.unique()"
   ]
  },
  {
   "cell_type": "code",
   "execution_count": 11,
   "id": "c18ac71b-a2a1-4e18-a156-373b7cfd1233",
   "metadata": {},
   "outputs": [
    {
     "data": {
      "text/plain": [
       "array(['ADANIPORTS', 'ASIANPAINT', 'AXISBANK', 'BAJAJ-AUTO', 'BAJFINANCE',\n",
       "       'BAJAJFINSV', 'BPCL', 'BHARTIARTL', 'CIPLA', 'COALINDIA',\n",
       "       'DRREDDY', 'EICHERMOT', 'GAIL', 'GRASIM', 'HCLTECH', 'HDFCBANK',\n",
       "       'HEROMOTOCO', 'HINDALCO', 'HINDPETRO', 'HINDUNILVR', 'HDFC', 'ITC',\n",
       "       'ICICIBANK', 'IBULHSGFIN', 'IOC', 'INDUSINDBK', 'INFY', 'JSWSTEEL',\n",
       "       'KOTAKBANK', 'LT', 'M&M', 'MARUTI', 'NTPC', 'ONGC', 'POWERGRID',\n",
       "       'RELIANCE', 'SBIN', 'SUNPHARMA', 'TCS'], dtype=object)"
      ]
     },
     "execution_count": 11,
     "metadata": {},
     "output_type": "execute_result"
    }
   ],
   "source": [
    "final_nifty_data_df.company_code.unique()"
   ]
  },
  {
   "cell_type": "code",
   "execution_count": null,
   "id": "87043c18-f422-48f8-9e0a-b27ecd6910a6",
   "metadata": {},
   "outputs": [],
   "source": []
  },
  {
   "cell_type": "code",
   "execution_count": null,
   "id": "e72df8ca-45db-40e9-996f-6e50c4ddc0fd",
   "metadata": {},
   "outputs": [],
   "source": []
  },
  {
   "cell_type": "code",
   "execution_count": null,
   "id": "9a71a8bd-064e-41a5-8ac2-6117d763c60e",
   "metadata": {},
   "outputs": [],
   "source": []
  },
  {
   "cell_type": "code",
   "execution_count": 3,
   "id": "a49a5db6-9c44-43ca-a9fc-1c220ee7efc6",
   "metadata": {},
   "outputs": [],
   "source": [
    "import requests\n",
    "from bs4 import BeautifulSoup\n",
    "\n"
   ]
  },
  {
   "cell_type": "code",
   "execution_count": 4,
   "id": "671b44ec-5383-4d8f-955a-df695c334a36",
   "metadata": {},
   "outputs": [],
   "source": [
    "def fetch_financial_news(company):\n",
    "    # Construct the URL for the company's financial news\n",
    "    url = f\"https://www.google.com/finance/quote/{company}:NSE\"\n",
    "\n",
    "    # Send an HTTP GET request to the URL\n",
    "    response = requests.get(url)\n",
    "\n",
    "    # Check if the request was successful\n",
    "    if response.status_code == 200:\n",
    "        # Parse the HTML content of the response\n",
    "        soup = BeautifulSoup(response.content, 'html.parser')\n",
    "\n",
    "        # Extract the financial news headlines\n",
    "        financial_news_headlines = soup.find_all('div', class_='b3g-news-headline')\n",
    "\n",
    "        # Print the financial news headlines\n",
    "        for headline in financial_news_headlines:\n",
    "            print(headline.text)\n",
    "        return soup\n",
    "    else:\n",
    "        print(f\"Error fetching financial news for {company}: {response.status_code}\")\n",
    "        return None"
   ]
  },
  {
   "cell_type": "code",
   "execution_count": 5,
   "id": "1c2f8fd4-7bb8-40e7-bca7-f85b6e22d9d9",
   "metadata": {},
   "outputs": [],
   "source": [
    "check = fetch_financial_news('CIPLA')"
   ]
  },
  {
   "cell_type": "code",
   "execution_count": 6,
   "id": "b20138d3-d367-4899-8868-75862f325cc4",
   "metadata": {},
   "outputs": [],
   "source": [
    "m = [div.find('a').get('href') for div in check.find_all('div', class_='z4rs2b')]"
   ]
  },
  {
   "cell_type": "code",
   "execution_count": 7,
   "id": "2576d992-641c-4c09-9667-4c46e0994336",
   "metadata": {},
   "outputs": [
    {
     "data": {
      "text/plain": [
       "['https://www.livemint.com/market/live-blog/cipla-share-price-live-blog-for-30-nov-2023-11701311741801.html',\n",
       " 'https://www.business-standard.com/markets/news/warning-letter-for-pithampur-sez-facility-remains-an-overhang-for-cipla-123113000109_1.html']"
      ]
     },
     "execution_count": 7,
     "metadata": {},
     "output_type": "execute_result"
    }
   ],
   "source": [
    "m"
   ]
  },
  {
   "cell_type": "code",
   "execution_count": null,
   "id": "9297715c-4ab5-4a3f-b8e6-9d2fee9f50a2",
   "metadata": {
    "scrolled": true
   },
   "outputs": [],
   "source": [
    "# check"
   ]
  },
  {
   "cell_type": "code",
   "execution_count": 21,
   "id": "c2dee273-263d-4a1b-aa78-7b342953be6d",
   "metadata": {},
   "outputs": [],
   "source": [
    "# def fetch_financial_news_by_url(url):\n",
    "#     # Construct the URL for the company's financial news\n",
    "#     # url = f\"https://www.google.com/finance/quote/{company}:NSE\"\n",
    "\n",
    "#     # Send an HTTP GET request to the URL\n",
    "#     response = requests.get(url)\n",
    "\n",
    "#     # Check if the request was successful\n",
    "#     if response.status_code == 200:\n",
    "#         # Parse the HTML content of the response\n",
    "#         soup = BeautifulSoup(response.content, 'html.parser')\n",
    "\n",
    "#         # Extract the financial news headlines\n",
    "#         financial_news_headlines = soup.find_all('div', class_='b3g-news-headline')\n",
    "\n",
    "#         # Print the financial news headlines\n",
    "#         for headline in financial_news_headlines:\n",
    "#             print(headline.text)\n",
    "#         return soup\n",
    "#     else:\n",
    "#         print(f\"Error fetching financial news for {url}: {response.status_code}\")\n",
    "#         return None"
   ]
  },
  {
   "cell_type": "code",
   "execution_count": 22,
   "id": "3427e0c4-ca5a-4584-b999-806e79263ce5",
   "metadata": {},
   "outputs": [],
   "source": [
    "# check1 = fetch_financial_news_by_url(m[0])\n",
    "\n",
    "def get_texts_soup_json(soup):\n",
    "    json_texts = []\n",
    "    script_tags = soup.find_all('script', {'type': 'application/json'})\n",
    "    if script_tags:\n",
    "        for script_tag in script_tags:\n",
    "            json_texts.append(script_tag.text)\n",
    "    return json_texts\n",
    "    \n",
    "\n",
    "def get_texts_soup_json_lrd(soup):\n",
    "    json_texts = []\n",
    "    script_tags = soup.find_all('script', {'type': 'application/ld+json'})\n",
    "    if script_tags:\n",
    "        for script_tag in script_tags:\n",
    "            json_texts.append(script_tag.text)\n",
    "    return json_texts\n",
    "\n",
    "\n",
    "def get_texts_soup_from_p(soup):\n",
    "    p_texts = []\n",
    "    p_tags = soup.find_all('p')\n",
    "    if p_tags:\n",
    "        for p_tag in p_tags:\n",
    "            p_texts.append(p_tag.text)\n",
    "    return p_texts\n",
    "\n",
    "\n",
    "\n",
    "all_texts = []\n",
    "for url in m:\n",
    "    url_soup = fetch_financial_news_by_url(url)\n",
    "    if url_soup is not None:\n",
    "        all_texts.append({\n",
    "            'url':url,\n",
    "            'p_texts': get_texts_soup_from_p(url_soup),\n",
    "            'json_texts': get_texts_soup_json(url_soup),\n",
    "            'json_lrd_texts': get_texts_soup_json_lrd(url_soup)\n",
    "        })\n",
    "    else:\n",
    "        all_texts.append({\n",
    "            'url':url,\n",
    "            'p_texts': [],\n",
    "            'json_texts': [],\n",
    "            'json_lrd_texts': []\n",
    "        })\n",
    "\n",
    "\n",
    "# all_texts = [\n",
    "#     {\n",
    "#         'url':url,\n",
    "#         'texts': [p_tag.text for p_tag in fetch_financial_news_by_url(url).find_all('p')]\n",
    "#     }\n",
    "#     for url in m if \n",
    "# ]"
   ]
  },
  {
   "cell_type": "code",
   "execution_count": null,
   "id": "dc864f46-d405-40e4-bdea-7ce2f2cf2db4",
   "metadata": {
    "scrolled": true
   },
   "outputs": [],
   "source": [
    "# help(check1)"
   ]
  },
  {
   "cell_type": "code",
   "execution_count": null,
   "id": "8cf9bfaa-f139-49f7-84bc-8a3fa266d19e",
   "metadata": {},
   "outputs": [],
   "source": [
    "# texts = [p_tag.text for p_tag in check1.find_all('p')]"
   ]
  },
  {
   "cell_type": "code",
   "execution_count": 50,
   "id": "82358910-3657-4baf-aeb7-2999150f7af2",
   "metadata": {},
   "outputs": [
    {
     "data": {
      "text/plain": [
       "[{'url': 'https://www.moneycontrol.com/news/business/markets/cipla-tanks-almost-7-as-usfdas-warning-letter-flags-data-issues-at-madhya-pradesh-unit-11795731.html',\n",
       "  'p_texts': ['My Account',\n",
       "   'Follow us on:',\n",
       "   'Powered By ',\n",
       "   'Find & Invest in bonds issued by top corporates, PSU Banks, NBFCs, and much more. Invest as low as 10,000 and earn better returns than FD',\n",
       "   'Invest Now',\n",
       "   'Powered By ',\n",
       "   \"Unlock Your Trading Potential: Trade like Experts with SEBI registered creators, Learn from Courses & Webinars by India's Finest Finance Experts.\",\n",
       "   'Invest Now',\n",
       "   '',\n",
       "   'AMBAREESH BALIGA',\n",
       "   'Fundamental, Stock Ideas, Multibaggers & Insights',\n",
       "   'Subscribe',\n",
       "   'CK NARAYAN',\n",
       "   'Stock & Index F&O Trading Calls & Market Analysis',\n",
       "   'Subscribe',\n",
       "   'SUDARSHAN SUKHANI',\n",
       "   'Technical Call, Trading Calls & Insights',\n",
       "   'Subscribe',\n",
       "   'T GNANASEKAR',\n",
       "   'Commodity Trading Calls & Market Analysis',\n",
       "   'Subscribe',\n",
       "   'MECKLAI FINANCIALS',\n",
       "   'Currency Derivatives Trading Calls & Insights',\n",
       "   'Subscribe',\n",
       "   'SHUBHAM AGARWAL',\n",
       "   'Options Trading Advice and Market Analysis',\n",
       "   'Subscribe',\n",
       "   'MARKET SMITH INDIA',\n",
       "   'Model portfolios, Investment Ideas, Guru Screens and Much More',\n",
       "   'Subscribe',\n",
       "   'TraderSmith',\n",
       "   'Proprietary system driven Rule Based Trading calls',\n",
       "   'Subscribe',\n",
       "   '',\n",
       "   '',\n",
       "   'Curated markets data, exclusive trading recommendations, Independent equity analysis & actionable investment ideas',\n",
       "   'Subscribe',\n",
       "   'Curated markets data, exclusive trading recommendations, Independent equity analysis & actionable investment ideas',\n",
       "   'Explore',\n",
       "   'STOCK REPORTS BY THOMSON REUTERS',\n",
       "   'Details stock report and investment recommendation',\n",
       "   'Subscribe',\n",
       "   'POWER YOUR TRADE',\n",
       "   'Technical and Commodity Calls',\n",
       "   'Subscribe',\n",
       "   'INVESTMENT WATCH',\n",
       "   'Set price, volume and news alerts',\n",
       "   'Subscribe',\n",
       "   'The Cipla\\xa0stock was trading almost 7 percent lower on November 23 after\\xa0CNBC-TV18\\xa0reported details of the warning letter issued to the firm’s Madhya Pradesh unit by the United States Food and Drug administration.',\n",
       "   'In an exchange filing on November 18, the pharma company said it received a warning letter from the USFDA for routine good manufacturing practices (GMP) inspection at its Pithampur facility between February 6 and 7, 2023.',\n",
       "   'According to the CNBC-TV18, the warning letter underlined data integrity issues at Cipla embedded with product complaints and microbial contamination.',\n",
       "   \"The US health regulator mentioned similar and repeated observations for Cipla's facility earlier. The Goa facility is under “Official Action Indicated” status, impacting product approvals from the facility meant for the US market.\",\n",
       "   'The report added that the USFDA asked Cipla to take help of third-party consultants to address the issue.',\n",
       "   \"Moneycontrol couldn't verify the report independently.\",\n",
       "   'Follow live blog for all the market action',\n",
       "   'Talking to media after announcing Q2 results, the management said the USFDA observations on Pithampur and Goa facilities was delaying launch of products by six months.',\n",
       "   '\"We are delayed by six months, from where we could launch, to the time we will,\" MD and Global CEO Umang Vohra has said.\\xa0The process of shifting the manufacturing of the products to other plants was ongoing for the four to five months.',\n",
       "   'ALSO READ:\\xa0US FDA plant observations at Cipla cause 6-month delay in product launches: CEO',\n",
       "   'In the September quarter, Cipla reported a 43.3 percent year-on-year rise in consolidated net profit at Rs 1,131 crore, while it clocked highest-ever revenue from the US at $229 million.',\n",
       "   'Analysts at Prabhudas Lilladher maintained a “buy” call on the counter, with a target price of Rs 1,350 a share based on 24 times September 2025E EPS.',\n",
       "   '\"We expect 17 percent EPS\\xa0compounded annual growth rate (CAGR)\\xa0over FY23-26E. However, any further FDA escalation to Indore unit and erosion in key products in US will be key risk to our call,\" the brokerage firm said.',\n",
       "   'At 11.23 am, the stock was trading at Rs 1,188.05\\xa0on the National Stock Exchange, down 6.56 percent from the previous close. In the past week, the stock has declined over a percent.',\n",
       "   'Disclaimer: The views and investment tips expressed by investment experts on Moneycontrol.com are their own and not those of the website or its management. Moneycontrol.com advises users to check with certified experts before taking any investment decisions.',\n",
       "   '            Discover the latest business news, Sensex, and Nifty updates. Obtain Personal Finance insights, tax queries, and expert opinions on Moneycontrol or download the Moneycontrol App to stay updated!\\n      ',\n",
       "   ' Copyright © e-Eighteen.com Ltd. All rights reserved. Reproduction of news articles, photos, videos or any other content in whole or in part in any form \\r\\n        or medium without express writtern permission of moneycontrol.com is prohibited.',\n",
       "   'You are already a Moneycontrol Pro user.',\n",
       "   'Access your Detailed Credit Report - absolutely free'],\n",
       "  'json_texts': [],\n",
       "  'json_lrd_texts': ['        {\\r\\n            \"@context\": \"https://schema.org\",\\r\\n            \"@type\": \"WebPage\",\\r\\n            \"name\": \"Cipla tanks almost 7% as USFDA\\'s letter flags data issues at Madhya Pradesh unit\",\\r\\n            \"description\": \"According to a CNBC-TV18, the warning letter has underlined data integrity issues at Cipla embedded with product complaints and microbial contamination\",\\r\\n            \"speakable\": {\\r\\n                \"@type\":\"SpeakableSpecification\"\\r\\n            },\\r\\n            \\r\\n            \"url\" : \"https://www.moneycontrol.com/news/business/markets/cipla-tanks-almost-7-as-usfdas-warning-letter-flags-data-issues-at-madhya-pradesh-unit-11795731.html\"\\r\\n        } \\r\\n    ',\n",
       "   '            {\\r\\n             \"@context\": \"https://schema.org\",\\r\\n             \"@type\": \"BreadcrumbList\",\\r\\n             \"itemListElement\":\\r\\n             [\\r\\n              {\\r\\n               \"@type\": \"ListItem\",\\r\\n               \"position\": 1,\\r\\n               \"item\":\\r\\n               {\\r\\n                \"@id\": \"https://www.moneycontrol.com/\",\\r\\n                \"name\": \"HOME\"\\r\\n                }\\r\\n            }, \\r\\n                            {\\r\\n                              \"@type\": \"ListItem\",\\r\\n                              \"position\": 2,\\r\\n                              \"item\":{\\r\\n                                \"@id\": \"https://www.moneycontrol.com/news/\",\\r\\n                                \"name\": \"NEWS\"\\r\\n                                }\\r\\n                            }, \\r\\n                            {\\r\\n                              \"@type\": \"ListItem\",\\r\\n                              \"position\": 3,\\r\\n                              \"item\":{\\r\\n                                \"@id\": \"https://www.moneycontrol.com/news/business/\",\\r\\n                                \"name\": \"BUSINESS\"\\r\\n                                }\\r\\n                            }, \\r\\n                            {\\r\\n                              \"@type\": \"ListItem\",\\r\\n                              \"position\": 4,\\r\\n                              \"item\":{\\r\\n                                \"@id\": \"https://www.moneycontrol.com/news/business/markets/\",\\r\\n                                \"name\": \"MARKETS\"\\r\\n                                }\\r\\n                            } \\r\\n                            ,{\\r\\n                              \"@type\": \"ListItem\",\\r\\n                              \"position\": 5,\\r\\n                              \"item\":{\\r\\n                                \"@id\": \"https://www.moneycontrol.com/news/business/markets/cipla-tanks-almost-7-as-usfdas-warning-letter-flags-data-issues-at-madhya-pradesh-unit-11795731.html\",\\r\\n                                \"name\": \"CIPLA TANKS ALMOST 7% AS USFDA\\'S LETTER FLAGS DATA ISSUES AT MADHYA PRADESH UNIT\"\\r\\n                                }\\r\\n                            }]\\r\\n        }\\r\\n    ',\n",
       "   '        [{\\r\\n          \"@context\": \"https://schema.org\",\\r\\n          \"@type\": \"NewsArticle\",\\r\\n          \"mainEntityOfPage\": {\\r\\n            \"@type\":\"WebPage\",\\r\\n            \"@id\":\"https://www.moneycontrol.com/news/business/markets/cipla-tanks-almost-7-as-usfdas-warning-letter-flags-data-issues-at-madhya-pradesh-unit-11795731.html\",\\r\\n            \"name\":\"Cipla tanks almost 7% as USFDA\\'s letter flags data issues at Madhya Pradesh unit\"\\r\\n          },\\r\\n          \"isPartOf\":{\\r\\n            \"@type\":\"CreativeWork\",\\r\\n            \"name\":\"Moneycontrol\",\\r\\n            \"url\": \"https://www.moneycontrol.com/\"\\r\\n            \\r\\n          },\\r\\n          \\r\\n          \"inLanguage\": \"en\",\\r\\n          \"headline\": \"Cipla tanks almost 7% as USFDA\\'s letter flags data issues at Madhya Pradesh unit\",\\r\\n          \"description\":\"According to a CNBC-TV18, the warning letter has underlined data integrity issues at Cipla embedded with product complaints and microbial contamination\",\\r\\n          \"keywords\":\"Cipla, Cipla stock price, USFDA, Pithampur facility, Goa facility, pharma stocks\",\\r\\n          \"articleSection\":\"Business\",\\r\\n          \"url\": \"https://www.moneycontrol.com/news/business/markets/cipla-tanks-almost-7-as-usfdas-warning-letter-flags-data-issues-at-madhya-pradesh-unit-11795731.html\",\\r\\n          \"image\":[\"https://images.moneycontrol.com/static-mcnews/2023/06/Cipla3.jpg?impolicy=website&width=1600&height=900\"],\\r\\n          \"datePublished\": \"2023-11-23T11:28:24+05:30\",\\r\\n          \"dateModified\": \"2023-11-23T11:31:32+05:30\",\\r\\n          \"articleBody\":\"The Cipla&nbsp;stock was trading almost 7 percent lower on November 23 after&nbsp;CNBC-TV18&nbsp;reported details of the warning letter issued to the firm&rsquo;s Madhya Pradesh unit by the United States Food and Drug administration.\\r\\n\\r\\nIn an exchange filing on November 18, the pharma company said it received a warning letter from the USFDA for routine good manufacturing practices (GMP) inspection at its Pithampur facility between February 6 and 7, 2023.\\r\\n\\r\\nAccording to the CNBC-TV18, the warning letter underlined data integrity issues at Cipla embedded with product complaints and microbial contamination.\\r\\n\\r\\nThe US health regulator mentioned similar and repeated observations for Cipla\\'s facility earlier. The Goa facility is under &ldquo;Official Action Indicated&rdquo; status, impacting product approvals from the facility meant for the US market.\\r\\n\\r\\nThe report added that the USFDA asked Cipla to take help of third-party consultants to address the issue.\\r\\n\\r\\nMoneycontrol couldn\\'t verify the report independently.\\r\\n\\r\\nFollow live blog for all the market action\\r\\n\\r\\nTalking to media after announcing Q2 results, the management said the USFDA observations on Pithampur and Goa facilities was delaying launch of products by six months.\\r\\n\\r\\n&amp;quot;We are delayed by six months, from where we could launch, to the time we will,&amp;quot; MD and Global CEO Umang Vohra has said.&nbsp;The process of shifting the manufacturing of the products to other plants was ongoing for the four to five months.\\r\\n\\r\\nALSO READ:&nbsp;US FDA plant observations at Cipla cause 6-month delay in product launches: CEO\\r\\n\\r\\nIn the September quarter, Cipla reported a 43.3 percent year-on-year rise in consolidated net profit at Rs 1,131 crore, while it clocked highest-ever revenue from the US at $229 million.\\r\\n\\r\\nAnalysts at Prabhudas Lilladher maintained a &ldquo;buy&rdquo; call on the counter, with a target price of Rs 1,350 a share based on 24 times September 2025E EPS.\\r\\n\\r\\n&amp;quot;We expect 17 percent EPS&nbsp;compounded annual growth rate (CAGR)&nbsp;over FY23-26E. However, any further FDA escalation to Indore unit and erosion in key products in US will be key risk to our call,&amp;quot; the brokerage firm said.\\r\\n\\r\\nAt 11.23 am, the stock was trading at Rs 1,188.05&nbsp;on the National Stock Exchange, down 6.56 percent from the previous close. In the past week, the stock has declined over a percent.\\r\\n\\r\\nDisclaimer: The views and investment tips expressed by investment experts on Moneycontrol.com are their own and not those of the website or its management. Moneycontrol.com advises users to check with certified experts before taking any investment decisions.\\r\\n\\r\\n&amp;amp;nbsp;\",\\r\\n          \"author\": {\\r\\n                \"@type\":\"Person\"\\r\\n                ,\"url\" : \"https://www.moneycontrol.com/author/moneycontrol-news-7285/\"\\r\\n                ,\"name\" : \"Moneycontrol News\"\\r\\n          },\\r\\n          \"publisher\":{\\r\\n            \"@type\": \"NewsMediaOrganization\",\\r\\n            \"name\": \"Moneycontrol\",\\r\\n            \"url\":\"https://www.moneycontrol.com\",\\r\\n            \"logo\": {\\r\\n                    \"@type\": \"ImageObject\",\\r\\n                    \"url\": \"https://images.moneycontrol.com/mcnews/images/eng-left-mc-logo-600x60.png\",\\r\\n                    \"width\": \"600\",\\r\\n                    \"height\": \"60\"\\r\\n                }\\r\\n            },\\r\\n            \"associatedMedia\":{\\r\\n                \"@type\":\"imageObject\",\\r\\n                \"url\":\"https://images.moneycontrol.com/static-mcnews/2023/06/Cipla3.jpg?impolicy=website&width=1600&height=900\",\\r\\n                \"caption\":\"Cipla tanks almost 7% as USFDA\\'s letter flags data issues at Madhya Pradesh unit\",\\r\\n                \"height\":\"900\",\\r\\n                \"width\":\"1600\"\\r\\n            }\\r\\n        }]\\r\\n    ',\n",
       "   '[{\"@context\":\"https:\\\\/\\\\/schema.org\",\"@type\":\"SiteNavigationElement\",\"name\":\"Home\",\"url\":\"https:\\\\/\\\\/www.moneycontrol.com\\\\/\"},{\"@context\":\"https:\\\\/\\\\/schema.org\",\"@type\":\"SiteNavigationElement\",\"name\":\"Markets\",\"url\":\"https:\\\\/\\\\/www.moneycontrol.com\\\\/stocksmarketsindia\\\\/\"},{\"@context\":\"https:\\\\/\\\\/schema.org\",\"@type\":\"SiteNavigationElement\",\"name\":\"News\",\"url\":\"https:\\\\/\\\\/www.moneycontrol.com\\\\/news\\\\/\"},{\"@context\":\"https:\\\\/\\\\/schema.org\",\"@type\":\"SiteNavigationElement\",\"name\":\"Commodities\",\"url\":\"https:\\\\/\\\\/www.moneycontrol.com\\\\/commodity\\\\/\"},{\"@context\":\"https:\\\\/\\\\/schema.org\",\"@type\":\"SiteNavigationElement\",\"name\":\"Mutual Funds\",\"url\":\"https:\\\\/\\\\/www.moneycontrol.com\\\\/mutualfundindia\\\\/\"},{\"@context\":\"https:\\\\/\\\\/schema.org\",\"@type\":\"SiteNavigationElement\",\"name\":\"Personal Finance\",\"url\":\"https:\\\\/\\\\/www.moneycontrol.com\\\\/personal-finance\\\\/\"}]']}]"
      ]
     },
     "execution_count": 50,
     "metadata": {},
     "output_type": "execute_result"
    }
   ],
   "source": [
    "all_texts"
   ]
  },
  {
   "cell_type": "code",
   "execution_count": null,
   "id": "ff5f3450-0fab-4ce3-a91f-195f0117b99c",
   "metadata": {},
   "outputs": [],
   "source": []
  },
  {
   "cell_type": "code",
   "execution_count": null,
   "id": "d58a6c3c-403c-4830-88b3-d5fb309ea61a",
   "metadata": {},
   "outputs": [],
   "source": [
    "# texts\n",
    "import json"
   ]
  },
  {
   "cell_type": "code",
   "execution_count": null,
   "id": "60cf32b8-1f57-48d8-b5fe-83830d67232a",
   "metadata": {},
   "outputs": [],
   "source": [
    "all_texts[0]['json_lrd_texts'][1]\n",
    "# Use script_tag = soup.find('script', {'type': 'application/json'})\n",
    "# <script type=\"application/ld+json\">"
   ]
  },
  {
   "cell_type": "code",
   "execution_count": null,
   "id": "ec1a5231-df6a-4cd4-9f55-7e75683368ef",
   "metadata": {},
   "outputs": [],
   "source": [
    "mm = '''\n",
    "\"2023-11-17T14:42:18+05:30\", \"articleBody\": \" Top active call options for Cipla at 17 Nov 14:42 were at strike price of ₹1250.0 (Expiry : 30 NOV 2023) & ₹1240.0 (Expiry : 30 NOV 2023) with prices ₹18.45 (+43.02%) & ₹25.0 (+44.51%) respectively.Top active put options for Cipla at 17 Nov 14:42 were at strike price of ₹1250.0 (Expiry : 30 NOV 2023) & ₹1200.0 (Expiry : 30 NOV 2023) with prices ₹14.0 (-38.46%) & ₹3.1 (-37.37%) respectively.Disclaimer: The Futures & Options data is at a delay of 15 minutes. \", \"image\": {\n",
    "'''"
   ]
  },
  {
   "cell_type": "code",
   "execution_count": null,
   "id": "1a38cbea-0d75-4dc4-bc35-e39d09ed1f74",
   "metadata": {},
   "outputs": [],
   "source": [
    "import re"
   ]
  },
  {
   "cell_type": "code",
   "execution_count": null,
   "id": "2842360e-cae6-476d-8435-767e28fd36f6",
   "metadata": {},
   "outputs": [],
   "source": [
    "# Regular expression to extract the articleBody text\n",
    "regex = r'\"articleBody\"\\s*:\\s*\"(.*),\\s*\"\\w+\"\\s*:'\n",
    "\n",
    "regex1 = r'\"articleBody\"\\s*:\\s*\"([^\"]*)\"'\n",
    "\n",
    "# Extracting the articleBody text\n",
    "match = re.search(regex1, all_texts[0]['json_lrd_texts'][1], flags=re.M)\n",
    "extracted_text = match.group(0) if match else \"No match found\"\n",
    "extracted_text"
   ]
  },
  {
   "cell_type": "code",
   "execution_count": null,
   "id": "e599f8f0-04d3-4d0a-a58a-7d30e5852b83",
   "metadata": {},
   "outputs": [],
   "source": [
    "# help(re)"
   ]
  },
  {
   "cell_type": "code",
   "execution_count": null,
   "id": "9dcf828d-6c25-4c54-a6a3-ab138a5fc6b1",
   "metadata": {},
   "outputs": [],
   "source": [
    "match = re.search(regex1, mm, flags=re.M)\n",
    "extracted_text = match.group(0) if match else \"No match found\"\n",
    "extracted_text"
   ]
  },
  {
   "cell_type": "code",
   "execution_count": null,
   "id": "f989f287-9dfe-4736-b297-bdeb6b4e0a27",
   "metadata": {},
   "outputs": [],
   "source": []
  }
 ],
 "metadata": {
  "kernelspec": {
   "display_name": "Python 3 (ipykernel)",
   "language": "python",
   "name": "python3"
  },
  "language_info": {
   "codemirror_mode": {
    "name": "ipython",
    "version": 3
   },
   "file_extension": ".py",
   "mimetype": "text/x-python",
   "name": "python",
   "nbconvert_exporter": "python",
   "pygments_lexer": "ipython3",
   "version": "3.10.12"
  }
 },
 "nbformat": 4,
 "nbformat_minor": 5
}
