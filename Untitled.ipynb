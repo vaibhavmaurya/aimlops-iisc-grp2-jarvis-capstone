{
 "cells": [
  {
   "cell_type": "code",
   "execution_count": 1,
   "id": "117e3535-04f3-4e86-8af8-1dace79741c9",
   "metadata": {},
   "outputs": [
    {
     "name": "stdout",
     "output_type": "stream",
     "text": [
      "<class 'pandas.core.frame.DataFrame'>\n",
      "RangeIndex: 40 entries, 0 to 39\n",
      "Data columns (total 2 columns):\n",
      " #   Column        Non-Null Count  Dtype \n",
      "---  ------        --------------  ----- \n",
      " 0   Symbol        40 non-null     object\n",
      " 1   Company Name  40 non-null     object\n",
      "dtypes: object(2)\n",
      "memory usage: 768.0+ bytes\n"
     ]
    }
   ],
   "source": [
    "import pandas as pd\n",
    "\n",
    "stocks_data_path = \"data/stocklist.csv\"\n",
    "stocks_list = pd.read_csv(stocks_data_path)\n",
    "stocks_list.info()"
   ]
  },
  {
   "cell_type": "code",
   "execution_count": 2,
   "id": "086e1069-6732-4fb8-97bd-83f6bf296874",
   "metadata": {},
   "outputs": [
    {
     "data": {
      "text/html": [
       "<div>\n",
       "<style scoped>\n",
       "    .dataframe tbody tr th:only-of-type {\n",
       "        vertical-align: middle;\n",
       "    }\n",
       "\n",
       "    .dataframe tbody tr th {\n",
       "        vertical-align: top;\n",
       "    }\n",
       "\n",
       "    .dataframe thead th {\n",
       "        text-align: right;\n",
       "    }\n",
       "</style>\n",
       "<table border=\"1\" class=\"dataframe\">\n",
       "  <thead>\n",
       "    <tr style=\"text-align: right;\">\n",
       "      <th></th>\n",
       "      <th>Symbol</th>\n",
       "      <th>Company Name</th>\n",
       "    </tr>\n",
       "  </thead>\n",
       "  <tbody>\n",
       "    <tr>\n",
       "      <th>0</th>\n",
       "      <td>ADANIPORTS.NS</td>\n",
       "      <td>Adani Ports &amp; SEZ Ltd.</td>\n",
       "    </tr>\n",
       "    <tr>\n",
       "      <th>1</th>\n",
       "      <td>ASIANPAINT.NS</td>\n",
       "      <td>Asian Paints Ltd.</td>\n",
       "    </tr>\n",
       "    <tr>\n",
       "      <th>2</th>\n",
       "      <td>AXISBANK.NS</td>\n",
       "      <td>Axis Bank Ltd.</td>\n",
       "    </tr>\n",
       "    <tr>\n",
       "      <th>3</th>\n",
       "      <td>BAJAJ-AUTO.NS</td>\n",
       "      <td>Bajaj Auto Ltd.</td>\n",
       "    </tr>\n",
       "    <tr>\n",
       "      <th>4</th>\n",
       "      <td>BAJFINANCE.NS</td>\n",
       "      <td>Bajaj Finance Ltd.</td>\n",
       "    </tr>\n",
       "  </tbody>\n",
       "</table>\n",
       "</div>"
      ],
      "text/plain": [
       "          Symbol            Company Name\n",
       "0  ADANIPORTS.NS  Adani Ports & SEZ Ltd.\n",
       "1  ASIANPAINT.NS       Asian Paints Ltd.\n",
       "2    AXISBANK.NS          Axis Bank Ltd.\n",
       "3  BAJAJ-AUTO.NS         Bajaj Auto Ltd.\n",
       "4  BAJFINANCE.NS      Bajaj Finance Ltd."
      ]
     },
     "execution_count": 2,
     "metadata": {},
     "output_type": "execute_result"
    }
   ],
   "source": [
    "stocks_list.head()"
   ]
  },
  {
   "cell_type": "code",
   "execution_count": 7,
   "id": "eba4e6aa-e7c4-4dee-89cd-cc947ab775fc",
   "metadata": {},
   "outputs": [],
   "source": [
    "import aiohttp\n",
    "import nest_asyncio"
   ]
  },
  {
   "cell_type": "code",
   "execution_count": 17,
   "id": "d76633fe-2a32-413f-af3b-a45f0e3b4e4a",
   "metadata": {},
   "outputs": [
    {
     "name": "stdout",
     "output_type": "stream",
     "text": [
      "Called for company ADANIPORTS.NS\n",
      "Called for company BAJAJ-AUTO.NS\n"
     ]
    }
   ],
   "source": [
    "import asyncio\n",
    "import aiohttp\n",
    "import pandas as pd\n",
    "import yfinance as yf\n",
    "import nest_asyncio\n",
    "import io\n",
    "\n",
    "nest_asyncio.apply()\n",
    "\n",
    "async def download_stock_data(session, symbol, start_date, end_date):\n",
    "    # Constructing the URL for downloading data\n",
    "    url = f\"https://query1.finance.yahoo.com/v7/finance/download/{symbol}?period1={start_date}&period2={end_date}&interval=1d&events=history\"\n",
    "    async with session.get(url) as response:\n",
    "        # Read the response as a CSV\n",
    "        print(f\"Called for company {symbol}\")\n",
    "        data = await response.text()\n",
    "        df = pd.read_csv(io.StringIO(data))\n",
    "        return df\n",
    "\n",
    "async def main(stocks_list, start_date, end_date):\n",
    "    # Convert date to timestamp\n",
    "    start_ts = int(pd.to_datetime(start_date).timestamp())\n",
    "    end_ts = int(pd.to_datetime(end_date).timestamp())\n",
    "\n",
    "    async with aiohttp.ClientSession() as session:\n",
    "        tasks = []\n",
    "        for _, row in stocks_list.iterrows():\n",
    "            symbol = row['Symbol']\n",
    "            task = asyncio.create_task(download_stock_data(session, symbol, start_ts, end_ts))\n",
    "            tasks.append(task)\n",
    "\n",
    "        nifty_data_list = await asyncio.gather(*tasks)\n",
    "\n",
    "        # Adding company name and code to the dataframes\n",
    "        for df, (_, row) in zip(nifty_data_list, stocks_list.iterrows()):\n",
    "            df['company'] = row['Company Name']\n",
    "            df['company_code'] = row['Symbol'].split('.')[0]\n",
    "\n",
    "        return nifty_data_list\n",
    "\n",
    "# Example usage\n",
    "stocks_list = pd.DataFrame({\n",
    "    'Symbol': ['ADANIPORTS.NS', 'BAJAJ-AUTO.NS'],\n",
    "    'Company Name': ['Adani Ports', 'Bajaj Auto Ltd.']\n",
    "})\n",
    "\n",
    "start_date = '2023-01-01'\n",
    "end_date = '2023-11-30'\n",
    "\n",
    "# Run the asynchronous main function\n",
    "# nifty_data_list = asyncio.run(main(stocks_list, start_date, end_date))\n",
    "\n",
    "loop = asyncio.get_event_loop()\n",
    "\n",
    "# Run the main function within the existing event loop\n",
    "nifty_data_list = loop.run_until_complete(main(stocks_list, start_date, end_date))\n",
    "\n",
    "final_nifty_data_df = pd.concat(nifty_data_list, axis=0)"
   ]
  },
  {
   "cell_type": "code",
   "execution_count": 18,
   "id": "b427ad46-2805-45d6-a6e0-962d00b3d3fc",
   "metadata": {},
   "outputs": [
    {
     "data": {
      "text/plain": [
       "array(['ADANIPORTS', 'BAJAJ-AUTO'], dtype=object)"
      ]
     },
     "execution_count": 18,
     "metadata": {},
     "output_type": "execute_result"
    }
   ],
   "source": [
    "final_nifty_data_df.company_code.unique()"
   ]
  },
  {
   "cell_type": "code",
   "execution_count": 20,
   "id": "66d2079f-4fbd-4547-9c57-64831bb7a69c",
   "metadata": {},
   "outputs": [
    {
     "name": "stdout",
     "output_type": "stream",
     "text": [
      "<class 'pandas.core.frame.DataFrame'>\n",
      "Index: 434 entries, 0 to 216\n",
      "Data columns (total 9 columns):\n",
      " #   Column        Non-Null Count  Dtype  \n",
      "---  ------        --------------  -----  \n",
      " 0   Date          434 non-null    object \n",
      " 1   Open          434 non-null    float64\n",
      " 2   High          434 non-null    float64\n",
      " 3   Low           434 non-null    float64\n",
      " 4   Close         434 non-null    float64\n",
      " 5   Adj Close     434 non-null    float64\n",
      " 6   Volume        434 non-null    int64  \n",
      " 7   company       434 non-null    object \n",
      " 8   company_code  434 non-null    object \n",
      "dtypes: float64(5), int64(1), object(3)\n",
      "memory usage: 33.9+ KB\n"
     ]
    }
   ],
   "source": [
    "final_nifty_data_df.info()"
   ]
  },
  {
   "cell_type": "code",
   "execution_count": 22,
   "id": "0dfd5e92-c1ec-4183-895f-0a60c30e9f70",
   "metadata": {},
   "outputs": [],
   "source": [
    "hello = final_nifty_data_df.to_csv(index=False)"
   ]
  },
  {
   "cell_type": "code",
   "execution_count": 24,
   "id": "013894d4-f26e-458a-8db6-9ddddea65b9c",
   "metadata": {},
   "outputs": [
    {
     "data": {
      "text/plain": [
       "'helllo'"
      ]
     },
     "execution_count": 24,
     "metadata": {},
     "output_type": "execute_result"
    }
   ],
   "source": [
    "'helllo.NS'.split('.NS')[0]"
   ]
  },
  {
   "cell_type": "code",
   "execution_count": null,
   "id": "87043c18-f422-48f8-9e0a-b27ecd6910a6",
   "metadata": {},
   "outputs": [],
   "source": []
  },
  {
   "cell_type": "code",
   "execution_count": null,
   "id": "e72df8ca-45db-40e9-996f-6e50c4ddc0fd",
   "metadata": {},
   "outputs": [],
   "source": []
  },
  {
   "cell_type": "code",
   "execution_count": 10,
   "id": "beebb53d-7285-45e4-aef3-2d865e1d4a5a",
   "metadata": {},
   "outputs": [
    {
     "name": "stdout",
     "output_type": "stream",
     "text": [
      "Company = Adani Ports & SEZ Ltd.\n",
      "[*********************100%%**********************]  1 of 1 completed\n",
      "Company = Asian Paints Ltd.\n",
      "[*********************100%%**********************]  1 of 1 completed\n",
      "Company = Axis Bank Ltd.\n",
      "[*********************100%%**********************]  1 of 1 completed\n",
      "Company = Bajaj Auto Ltd.\n",
      "[*********************100%%**********************]  1 of 1 completed\n",
      "Company = Bajaj Finance Ltd.\n",
      "[*********************100%%**********************]  1 of 1 completed\n",
      "Company = Bajaj Finserv Ltd.\n",
      "[*********************100%%**********************]  1 of 1 completed\n",
      "Company = Bharat Petroleum Corporation Ltd.\n",
      "[*********************100%%**********************]  1 of 1 completed\n",
      "Company = Bharti Airtel Ltd.\n",
      "[*********************100%%**********************]  1 of 1 completed\n",
      "Company = Infratel Ltd.\n",
      "[*********************100%%**********************]  1 of 1 completed"
     ]
    },
    {
     "name": "stderr",
     "output_type": "stream",
     "text": [
      "\n",
      "1 Failed download:\n",
      "['INFRATEL.NS']: Exception('%ticker%: No timezone found, symbol may be delisted')\n"
     ]
    },
    {
     "name": "stdout",
     "output_type": "stream",
     "text": [
      "\n",
      "Company = Cipla Ltd.\n",
      "[*********************100%%**********************]  1 of 1 completed\n",
      "Company = Coal India Ltd.\n",
      "[*********************100%%**********************]  1 of 1 completed\n",
      "Company = Dr. Reddy's Laboratories Ltd.\n",
      "[*********************100%%**********************]  1 of 1 completed\n",
      "Company = Eicher Motors Ltd.\n",
      "[*********************100%%**********************]  1 of 1 completed\n",
      "Company = GAIL (India) Ltd.\n",
      "[*********************100%%**********************]  1 of 1 completed\n",
      "Company = Grasim Industries Ltd.\n",
      "[*********************100%%**********************]  1 of 1 completed\n",
      "Company = HCL Technologies Ltd.\n",
      "[*********************100%%**********************]  1 of 1 completed\n",
      "Company = HDFC Bank Ltd.\n",
      "[*********************100%%**********************]  1 of 1 completed\n",
      "Company = Hero MotoCorp Ltd.\n",
      "[*********************100%%**********************]  1 of 1 completed\n",
      "Company = Hindalco Industries Ltd.\n",
      "[*********************100%%**********************]  1 of 1 completed\n",
      "Company = Hindustan Petroleum Corporation Ltd.\n",
      "[*********************100%%**********************]  1 of 1 completed\n",
      "Company = Hindustan Unilever Ltd.\n",
      "[*********************100%%**********************]  1 of 1 completed\n",
      "Company = Housing Development Finance Corporation Ltd.\n",
      "[*********************100%%**********************]  1 of 1 completed\n",
      "Company = ITC Ltd.\n",
      "[*********************100%%**********************]  1 of 1 completed\n",
      "Company = ICICI Bank Ltd.\n",
      "[*********************100%%**********************]  1 of 1 completed\n",
      "Company = ICICI Prudential Housing Finance Ltd.\n",
      "[*********************100%%**********************]  1 of 1 completed\n",
      "Company = Indian Oil Corporation Ltd.\n",
      "[*********************100%%**********************]  1 of 1 completed\n",
      "Company = IndusInd Bank Ltd.\n",
      "[*********************100%%**********************]  1 of 1 completed\n",
      "Company = Infosys Ltd.\n",
      "[*********************100%%**********************]  1 of 1 completed\n",
      "Company = JSW Steel Ltd.\n",
      "[*********************100%%**********************]  1 of 1 completed\n",
      "Company = Kotak Mahindra Bank Ltd.\n",
      "[*********************100%%**********************]  1 of 1 completed\n",
      "Company = Larsen & Toubro Ltd.\n",
      "[*********************100%%**********************]  1 of 1 completed\n",
      "Company = Mahindra & Mahindra Ltd.\n",
      "[*********************100%%**********************]  1 of 1 completed\n",
      "Company = Maruti Suzuki India Ltd.\n",
      "[*********************100%%**********************]  1 of 1 completed\n",
      "Company = NTPC Ltd.\n",
      "[*********************100%%**********************]  1 of 1 completed\n",
      "Company = Oil and Natural Gas Corporation Ltd.\n",
      "[*********************100%%**********************]  1 of 1 completed\n",
      "Company = Power Grid Corporation of India Ltd.\n",
      "[*********************100%%**********************]  1 of 1 completed\n",
      "Company = Reliance Industries Ltd.\n",
      "[*********************100%%**********************]  1 of 1 completed\n",
      "Company = State Bank of India\n",
      "[*********************100%%**********************]  1 of 1 completed\n",
      "Company = Sun Pharmaceutical Industries Ltd.\n",
      "[*********************100%%**********************]  1 of 1 completed\n",
      "Company = Tata Consultancy Services Ltd.\n",
      "[*********************100%%**********************]  1 of 1 completed\n"
     ]
    }
   ],
   "source": [
    "import yfinance as yf\n",
    "\n",
    "start_date = '2023-01-01'\n",
    "end_date = '2023-11-30'\n",
    "\n",
    "nifty_data_list = []\n",
    "\n",
    "for _, r in stocks_list.iterrows():\n",
    "    print(f\"Company = {r['Company Name']}\")\n",
    "    df = yf.download(r.Symbol, start=start_date, end=end_date)\n",
    "    df['company'] = r['Company Name']\n",
    "    df['company_code'] = r['Symbol'].split('.')[0]\n",
    "    nifty_data_list.append(df)"
   ]
  },
  {
   "cell_type": "code",
   "execution_count": 11,
   "id": "5a4476e6-8b73-4fd0-bc12-b4f257eb846e",
   "metadata": {},
   "outputs": [
    {
     "name": "stdout",
     "output_type": "stream",
     "text": [
      "<class 'pandas.core.frame.DataFrame'>\n",
      "DatetimeIndex: 8247 entries, 2023-01-02 to 2023-11-17\n",
      "Data columns (total 8 columns):\n",
      " #   Column        Non-Null Count  Dtype  \n",
      "---  ------        --------------  -----  \n",
      " 0   Open          8247 non-null   float64\n",
      " 1   High          8247 non-null   float64\n",
      " 2   Low           8247 non-null   float64\n",
      " 3   Close         8247 non-null   float64\n",
      " 4   Adj Close     8247 non-null   float64\n",
      " 5   Volume        8247 non-null   float64\n",
      " 6   company       8247 non-null   object \n",
      " 7   company_code  8247 non-null   object \n",
      "dtypes: float64(6), object(2)\n",
      "memory usage: 579.9+ KB\n"
     ]
    },
    {
     "name": "stderr",
     "output_type": "stream",
     "text": [
      "/tmp/ipykernel_576/2038296032.py:1: FutureWarning: The behavior of array concatenation with empty entries is deprecated. In a future version, this will no longer exclude empty items when determining the result dtype. To retain the old behavior, exclude the empty entries before the concat operation.\n",
      "  nifty_data_df = pd.concat(nifty_data_list, axis=0)\n"
     ]
    }
   ],
   "source": [
    "nifty_data_df = pd.concat(nifty_data_list, axis=0)\n",
    "nifty_data_df.info()"
   ]
  },
  {
   "cell_type": "code",
   "execution_count": 12,
   "id": "c2a25c99-4518-4958-bfc0-aea6b09ddfd9",
   "metadata": {},
   "outputs": [
    {
     "data": {
      "text/html": [
       "<div>\n",
       "<style scoped>\n",
       "    .dataframe tbody tr th:only-of-type {\n",
       "        vertical-align: middle;\n",
       "    }\n",
       "\n",
       "    .dataframe tbody tr th {\n",
       "        vertical-align: top;\n",
       "    }\n",
       "\n",
       "    .dataframe thead th {\n",
       "        text-align: right;\n",
       "    }\n",
       "</style>\n",
       "<table border=\"1\" class=\"dataframe\">\n",
       "  <thead>\n",
       "    <tr style=\"text-align: right;\">\n",
       "      <th></th>\n",
       "      <th>Open</th>\n",
       "      <th>High</th>\n",
       "      <th>Low</th>\n",
       "      <th>Close</th>\n",
       "      <th>Adj Close</th>\n",
       "      <th>Volume</th>\n",
       "      <th>company</th>\n",
       "      <th>company_code</th>\n",
       "    </tr>\n",
       "    <tr>\n",
       "      <th>Date</th>\n",
       "      <th></th>\n",
       "      <th></th>\n",
       "      <th></th>\n",
       "      <th></th>\n",
       "      <th></th>\n",
       "      <th></th>\n",
       "      <th></th>\n",
       "      <th></th>\n",
       "    </tr>\n",
       "  </thead>\n",
       "  <tbody>\n",
       "    <tr>\n",
       "      <th>2023-01-02</th>\n",
       "      <td>823.000000</td>\n",
       "      <td>826.750000</td>\n",
       "      <td>816.299988</td>\n",
       "      <td>822.299988</td>\n",
       "      <td>816.808838</td>\n",
       "      <td>2042294.0</td>\n",
       "      <td>Adani Ports &amp; SEZ Ltd.</td>\n",
       "      <td>ADANIPORTS</td>\n",
       "    </tr>\n",
       "    <tr>\n",
       "      <th>2023-01-03</th>\n",
       "      <td>822.250000</td>\n",
       "      <td>826.400024</td>\n",
       "      <td>817.799988</td>\n",
       "      <td>820.450012</td>\n",
       "      <td>814.971191</td>\n",
       "      <td>2166531.0</td>\n",
       "      <td>Adani Ports &amp; SEZ Ltd.</td>\n",
       "      <td>ADANIPORTS</td>\n",
       "    </tr>\n",
       "    <tr>\n",
       "      <th>2023-01-04</th>\n",
       "      <td>820.799988</td>\n",
       "      <td>822.000000</td>\n",
       "      <td>806.500000</td>\n",
       "      <td>810.000000</td>\n",
       "      <td>804.591003</td>\n",
       "      <td>3260112.0</td>\n",
       "      <td>Adani Ports &amp; SEZ Ltd.</td>\n",
       "      <td>ADANIPORTS</td>\n",
       "    </tr>\n",
       "    <tr>\n",
       "      <th>2023-01-05</th>\n",
       "      <td>814.049988</td>\n",
       "      <td>821.599976</td>\n",
       "      <td>797.000000</td>\n",
       "      <td>819.599976</td>\n",
       "      <td>814.126831</td>\n",
       "      <td>3119740.0</td>\n",
       "      <td>Adani Ports &amp; SEZ Ltd.</td>\n",
       "      <td>ADANIPORTS</td>\n",
       "    </tr>\n",
       "    <tr>\n",
       "      <th>2023-01-06</th>\n",
       "      <td>819.900024</td>\n",
       "      <td>824.400024</td>\n",
       "      <td>803.500000</td>\n",
       "      <td>806.099976</td>\n",
       "      <td>800.716980</td>\n",
       "      <td>2892006.0</td>\n",
       "      <td>Adani Ports &amp; SEZ Ltd.</td>\n",
       "      <td>ADANIPORTS</td>\n",
       "    </tr>\n",
       "  </tbody>\n",
       "</table>\n",
       "</div>"
      ],
      "text/plain": [
       "                  Open        High         Low       Close   Adj Close  \\\n",
       "Date                                                                     \n",
       "2023-01-02  823.000000  826.750000  816.299988  822.299988  816.808838   \n",
       "2023-01-03  822.250000  826.400024  817.799988  820.450012  814.971191   \n",
       "2023-01-04  820.799988  822.000000  806.500000  810.000000  804.591003   \n",
       "2023-01-05  814.049988  821.599976  797.000000  819.599976  814.126831   \n",
       "2023-01-06  819.900024  824.400024  803.500000  806.099976  800.716980   \n",
       "\n",
       "               Volume                 company company_code  \n",
       "Date                                                        \n",
       "2023-01-02  2042294.0  Adani Ports & SEZ Ltd.   ADANIPORTS  \n",
       "2023-01-03  2166531.0  Adani Ports & SEZ Ltd.   ADANIPORTS  \n",
       "2023-01-04  3260112.0  Adani Ports & SEZ Ltd.   ADANIPORTS  \n",
       "2023-01-05  3119740.0  Adani Ports & SEZ Ltd.   ADANIPORTS  \n",
       "2023-01-06  2892006.0  Adani Ports & SEZ Ltd.   ADANIPORTS  "
      ]
     },
     "execution_count": 12,
     "metadata": {},
     "output_type": "execute_result"
    }
   ],
   "source": [
    "nifty_data_df.head()"
   ]
  },
  {
   "cell_type": "code",
   "execution_count": 13,
   "id": "52da5a83-948c-4bcd-9bbd-96468eb489f6",
   "metadata": {},
   "outputs": [
    {
     "data": {
      "text/html": [
       "<div>\n",
       "<style scoped>\n",
       "    .dataframe tbody tr th:only-of-type {\n",
       "        vertical-align: middle;\n",
       "    }\n",
       "\n",
       "    .dataframe tbody tr th {\n",
       "        vertical-align: top;\n",
       "    }\n",
       "\n",
       "    .dataframe thead th {\n",
       "        text-align: right;\n",
       "    }\n",
       "</style>\n",
       "<table border=\"1\" class=\"dataframe\">\n",
       "  <thead>\n",
       "    <tr style=\"text-align: right;\">\n",
       "      <th></th>\n",
       "      <th>Open</th>\n",
       "      <th>High</th>\n",
       "      <th>Low</th>\n",
       "      <th>Close</th>\n",
       "      <th>Adj Close</th>\n",
       "      <th>Volume</th>\n",
       "      <th>company</th>\n",
       "      <th>company_code</th>\n",
       "    </tr>\n",
       "    <tr>\n",
       "      <th>Date</th>\n",
       "      <th></th>\n",
       "      <th></th>\n",
       "      <th></th>\n",
       "      <th></th>\n",
       "      <th></th>\n",
       "      <th></th>\n",
       "      <th></th>\n",
       "      <th></th>\n",
       "    </tr>\n",
       "  </thead>\n",
       "  <tbody>\n",
       "    <tr>\n",
       "      <th>2023-11-10</th>\n",
       "      <td>3338.000000</td>\n",
       "      <td>3347.449951</td>\n",
       "      <td>3322.350098</td>\n",
       "      <td>3333.449951</td>\n",
       "      <td>3333.449951</td>\n",
       "      <td>1338557.0</td>\n",
       "      <td>Tata Consultancy Services Ltd.</td>\n",
       "      <td>TCS</td>\n",
       "    </tr>\n",
       "    <tr>\n",
       "      <th>2023-11-13</th>\n",
       "      <td>3356.000000</td>\n",
       "      <td>3356.000000</td>\n",
       "      <td>3327.000000</td>\n",
       "      <td>3331.550049</td>\n",
       "      <td>3331.550049</td>\n",
       "      <td>1030990.0</td>\n",
       "      <td>Tata Consultancy Services Ltd.</td>\n",
       "      <td>TCS</td>\n",
       "    </tr>\n",
       "    <tr>\n",
       "      <th>2023-11-15</th>\n",
       "      <td>3383.100098</td>\n",
       "      <td>3413.000000</td>\n",
       "      <td>3356.050049</td>\n",
       "      <td>3404.300049</td>\n",
       "      <td>3404.300049</td>\n",
       "      <td>2059802.0</td>\n",
       "      <td>Tata Consultancy Services Ltd.</td>\n",
       "      <td>TCS</td>\n",
       "    </tr>\n",
       "    <tr>\n",
       "      <th>2023-11-16</th>\n",
       "      <td>3430.050049</td>\n",
       "      <td>3529.350098</td>\n",
       "      <td>3414.199951</td>\n",
       "      <td>3497.850098</td>\n",
       "      <td>3497.850098</td>\n",
       "      <td>3951984.0</td>\n",
       "      <td>Tata Consultancy Services Ltd.</td>\n",
       "      <td>TCS</td>\n",
       "    </tr>\n",
       "    <tr>\n",
       "      <th>2023-11-17</th>\n",
       "      <td>3497.850098</td>\n",
       "      <td>3524.500000</td>\n",
       "      <td>3492.550049</td>\n",
       "      <td>3502.449951</td>\n",
       "      <td>3502.449951</td>\n",
       "      <td>2020363.0</td>\n",
       "      <td>Tata Consultancy Services Ltd.</td>\n",
       "      <td>TCS</td>\n",
       "    </tr>\n",
       "  </tbody>\n",
       "</table>\n",
       "</div>"
      ],
      "text/plain": [
       "                   Open         High          Low        Close    Adj Close  \\\n",
       "Date                                                                          \n",
       "2023-11-10  3338.000000  3347.449951  3322.350098  3333.449951  3333.449951   \n",
       "2023-11-13  3356.000000  3356.000000  3327.000000  3331.550049  3331.550049   \n",
       "2023-11-15  3383.100098  3413.000000  3356.050049  3404.300049  3404.300049   \n",
       "2023-11-16  3430.050049  3529.350098  3414.199951  3497.850098  3497.850098   \n",
       "2023-11-17  3497.850098  3524.500000  3492.550049  3502.449951  3502.449951   \n",
       "\n",
       "               Volume                         company company_code  \n",
       "Date                                                                \n",
       "2023-11-10  1338557.0  Tata Consultancy Services Ltd.          TCS  \n",
       "2023-11-13  1030990.0  Tata Consultancy Services Ltd.          TCS  \n",
       "2023-11-15  2059802.0  Tata Consultancy Services Ltd.          TCS  \n",
       "2023-11-16  3951984.0  Tata Consultancy Services Ltd.          TCS  \n",
       "2023-11-17  2020363.0  Tata Consultancy Services Ltd.          TCS  "
      ]
     },
     "execution_count": 13,
     "metadata": {},
     "output_type": "execute_result"
    }
   ],
   "source": [
    "nifty_data_df.tail()"
   ]
  },
  {
   "cell_type": "code",
   "execution_count": 14,
   "id": "60b3bcd5-0143-4388-b297-7f6155de5511",
   "metadata": {},
   "outputs": [],
   "source": [
    "nifty_data_df.to_csv('data/2023_nifty_stocks.csv', index=False)"
   ]
  },
  {
   "cell_type": "code",
   "execution_count": null,
   "id": "4023b993-c0be-4024-af70-9af1f82e065b",
   "metadata": {},
   "outputs": [],
   "source": []
  },
  {
   "cell_type": "code",
   "execution_count": null,
   "id": "9a71a8bd-064e-41a5-8ac2-6117d763c60e",
   "metadata": {},
   "outputs": [],
   "source": []
  },
  {
   "cell_type": "code",
   "execution_count": 15,
   "id": "a49a5db6-9c44-43ca-a9fc-1c220ee7efc6",
   "metadata": {},
   "outputs": [],
   "source": [
    "import requests\n",
    "from bs4 import BeautifulSoup\n",
    "\n"
   ]
  },
  {
   "cell_type": "code",
   "execution_count": 19,
   "id": "671b44ec-5383-4d8f-955a-df695c334a36",
   "metadata": {},
   "outputs": [],
   "source": [
    "def fetch_financial_news(company):\n",
    "    # Construct the URL for the company's financial news\n",
    "    url = f\"https://www.google.com/finance/quote/{company}:NSE\"\n",
    "\n",
    "    # Send an HTTP GET request to the URL\n",
    "    response = requests.get(url)\n",
    "\n",
    "    # Check if the request was successful\n",
    "    if response.status_code == 200:\n",
    "        # Parse the HTML content of the response\n",
    "        soup = BeautifulSoup(response.content, 'html.parser')\n",
    "\n",
    "        # Extract the financial news headlines\n",
    "        financial_news_headlines = soup.find_all('div', class_='b3g-news-headline')\n",
    "\n",
    "        # Print the financial news headlines\n",
    "        for headline in financial_news_headlines:\n",
    "            print(headline.text)\n",
    "        return soup\n",
    "    else:\n",
    "        print(f\"Error fetching financial news for {company}: {response.status_code}\")\n",
    "        return None"
   ]
  },
  {
   "cell_type": "code",
   "execution_count": 76,
   "id": "1c2f8fd4-7bb8-40e7-bca7-f85b6e22d9d9",
   "metadata": {},
   "outputs": [],
   "source": [
    "check = fetch_financial_news('CIPLA')"
   ]
  },
  {
   "cell_type": "code",
   "execution_count": 77,
   "id": "b20138d3-d367-4899-8868-75862f325cc4",
   "metadata": {},
   "outputs": [],
   "source": [
    "m = [div.find('a').get('href') for div in check.find_all('div', class_='z4rs2b')]"
   ]
  },
  {
   "cell_type": "code",
   "execution_count": 78,
   "id": "2576d992-641c-4c09-9667-4c46e0994336",
   "metadata": {},
   "outputs": [
    {
     "data": {
      "text/plain": [
       "['https://www.livemint.com/market/live-blog/cipla-share-price-live-blog-for-17-nov-2023-11700201410087.html',\n",
       " 'https://www.livemint.com/market/stock-market-news/stocks-to-watch-tcs-bajaj-finance-dabur-india-ongc-cipla-vedanta-11700093427505.html',\n",
       " 'https://www.business-standard.com/companies/news/cipla-concludes-51-18-stake-sale-in-ugandan-subsidiary-for-25-million-123111500941_1.html',\n",
       " 'https://www.devdiscourse.com/article/business/2713601-cipla-completes-stake-sale-in-uganda-based-unit']"
      ]
     },
     "execution_count": 78,
     "metadata": {},
     "output_type": "execute_result"
    }
   ],
   "source": [
    "m"
   ]
  },
  {
   "cell_type": "code",
   "execution_count": 79,
   "id": "9297715c-4ab5-4a3f-b8e6-9d2fee9f50a2",
   "metadata": {
    "scrolled": true
   },
   "outputs": [],
   "source": [
    "# check"
   ]
  },
  {
   "cell_type": "code",
   "execution_count": 80,
   "id": "c2dee273-263d-4a1b-aa78-7b342953be6d",
   "metadata": {},
   "outputs": [],
   "source": [
    "def fetch_financial_news_by_url(url):\n",
    "    # Construct the URL for the company's financial news\n",
    "    # url = f\"https://www.google.com/finance/quote/{company}:NSE\"\n",
    "\n",
    "    # Send an HTTP GET request to the URL\n",
    "    response = requests.get(url)\n",
    "\n",
    "    # Check if the request was successful\n",
    "    if response.status_code == 200:\n",
    "        # Parse the HTML content of the response\n",
    "        soup = BeautifulSoup(response.content, 'html.parser')\n",
    "\n",
    "        # Extract the financial news headlines\n",
    "        financial_news_headlines = soup.find_all('div', class_='b3g-news-headline')\n",
    "\n",
    "        # Print the financial news headlines\n",
    "        for headline in financial_news_headlines:\n",
    "            print(headline.text)\n",
    "        return soup\n",
    "    else:\n",
    "        print(f\"Error fetching financial news for {url}: {response.status_code}\")\n",
    "        return None"
   ]
  },
  {
   "cell_type": "code",
   "execution_count": 81,
   "id": "3427e0c4-ca5a-4584-b999-806e79263ce5",
   "metadata": {},
   "outputs": [
    {
     "name": "stdout",
     "output_type": "stream",
     "text": [
      "Error fetching financial news for https://www.business-standard.com/companies/news/cipla-concludes-51-18-stake-sale-in-ugandan-subsidiary-for-25-million-123111500941_1.html: 403\n"
     ]
    }
   ],
   "source": [
    "# check1 = fetch_financial_news_by_url(m[0])\n",
    "\n",
    "def get_texts_soup_json(soup):\n",
    "    json_texts = []\n",
    "    script_tags = soup.find_all('script', {'type': 'application/json'})\n",
    "    if script_tags:\n",
    "        for script_tag in script_tags:\n",
    "            json_texts.append(script_tag.text)\n",
    "    return json_texts\n",
    "    \n",
    "\n",
    "def get_texts_soup_json_lrd(soup):\n",
    "    json_texts = []\n",
    "    script_tags = soup.find_all('script', {'type': 'application/ld+json'})\n",
    "    if script_tags:\n",
    "        for script_tag in script_tags:\n",
    "            json_texts.append(script_tag.text)\n",
    "    return json_texts\n",
    "\n",
    "\n",
    "def get_texts_soup_from_p(soup):\n",
    "    p_texts = []\n",
    "    p_tags = soup.find_all('p')\n",
    "    if p_tags:\n",
    "        for p_tag in p_tags:\n",
    "            p_texts.append(p_tag.text)\n",
    "    return p_texts\n",
    "\n",
    "\n",
    "\n",
    "all_texts = []\n",
    "for url in m:\n",
    "    url_soup = fetch_financial_news_by_url(url)\n",
    "    if url_soup is not None:\n",
    "        all_texts.append({\n",
    "            'url':url,\n",
    "            'p_texts': get_texts_soup_from_p(url_soup),\n",
    "            'json_texts': get_texts_soup_json(url_soup),\n",
    "            'json_lrd_texts': get_texts_soup_json_lrd(url_soup)\n",
    "        })\n",
    "    else:\n",
    "        all_texts.append({\n",
    "            'url':url,\n",
    "            'p_texts': [],\n",
    "            'json_texts': [],\n",
    "            'json_lrd_texts': []\n",
    "        })\n",
    "\n",
    "\n",
    "# all_texts = [\n",
    "#     {\n",
    "#         'url':url,\n",
    "#         'texts': [p_tag.text for p_tag in fetch_financial_news_by_url(url).find_all('p')]\n",
    "#     }\n",
    "#     for url in m if \n",
    "# ]"
   ]
  },
  {
   "cell_type": "code",
   "execution_count": 49,
   "id": "dc864f46-d405-40e4-bdea-7ce2f2cf2db4",
   "metadata": {
    "scrolled": true
   },
   "outputs": [],
   "source": [
    "# help(check1)"
   ]
  },
  {
   "cell_type": "code",
   "execution_count": 50,
   "id": "8cf9bfaa-f139-49f7-84bc-8a3fa266d19e",
   "metadata": {},
   "outputs": [],
   "source": [
    "# texts = [p_tag.text for p_tag in check1.find_all('p')]"
   ]
  },
  {
   "cell_type": "code",
   "execution_count": 69,
   "id": "d58a6c3c-403c-4830-88b3-d5fb309ea61a",
   "metadata": {},
   "outputs": [],
   "source": [
    "# texts\n",
    "import json"
   ]
  },
  {
   "cell_type": "code",
   "execution_count": 88,
   "id": "60cf32b8-1f57-48d8-b5fe-83830d67232a",
   "metadata": {},
   "outputs": [
    {
     "data": {
      "text/plain": [
       "' { \"@context\": \"https://schema.org\", \"@type\": \"NewsArticle\", \"mainEntityOfPage\": \"https://www.livemint.com/market/live-blog/cipla-share-price-live-blog-for-17-nov-2023-11700201410087.html\", \"inLanguage\": \"en\", \"headline\": \"Cipla share price Today Live Updates : Cipla closed today at  ₹1249.35, up 1.17% from yesterday\\'s  ₹1234.85 | Mint\", \"description\": \"Cipla stock price went up today, 17 Nov 2023, by 1.17 %. The stock closed at 1234.85 per share. The stock is currently trading at 1249.35 per share. Investors should monitor Cipla stock price closely in the coming days and weeks to see how it reacts to the news.\", \"url\": \"https://www.livemint.com/market/live-blog/cipla-share-price-live-blog-for-17-nov-2023-11700201410087.html\", \"datePublished\": \"2023-11-17T11:40:09+05:30\", \"dateModified\": \"2023-11-17T18:36:19+05:30\", \"articleBody\": \"Cipla\\'s stock opened at  ₹1238.95 and closed at  ₹1234.85 on the last trading day. The high for the day was  ₹1256 and the low was  ₹1235.25. The market cap stands at 100734.03 cr, with a 52-week high of  ₹1277.55 and a 52-week low of  ₹852. The BSE volume for the day was 25139 shares.Disclaimer: This is an AI-generated live blog and has not been edited by LiveMint staff.\\n\", \"alternativeHeadline\": \"Cipla share price Today Live Updates : Cipla closed today at  ₹1249.35, up 1.17% from yesterday\\'s  ₹1234.85 | Mint\",  \"author\": { \"@type\": \"Person\", \"name\": \"Livemint\" }, \"publisher\": {\"@type\": \"Organization\",\"name\": \"mint\",\"url\": \"https://www.livemint.com\",\"logo\": {\"@type\": \"ImageObject\",\"url\": \"https://www.livemint.com/lm-img/newschemalogo.png\",\"width\": 600,\"height\": 60}},\"image\": { \"@type\": \"ImageObject\",\"url\": \"https://www.livemint.com/lm-img/img/2023/06/14/1600x900/2-0-117672921-BSE-4C-0_1681809151261_1686719092213_1686719101255.webp\",\\t\"height\": 900,\"width\": 1600 },\"keywords\": [\"Cipla Share Price Live\",\" Cipla Stock Price Live\",\" Cipla Stock\",\" Cipla Share\"] } '"
      ]
     },
     "execution_count": 88,
     "metadata": {},
     "output_type": "execute_result"
    }
   ],
   "source": [
    "all_texts[0]['json_lrd_texts'][1]\n",
    "# Use script_tag = soup.find('script', {'type': 'application/json'})\n",
    "# <script type=\"application/ld+json\">"
   ]
  },
  {
   "cell_type": "code",
   "execution_count": 83,
   "id": "ec1a5231-df6a-4cd4-9f55-7e75683368ef",
   "metadata": {},
   "outputs": [],
   "source": [
    "mm = '''\n",
    "\"2023-11-17T14:42:18+05:30\", \"articleBody\": \" Top active call options for Cipla at 17 Nov 14:42 were at strike price of ₹1250.0 (Expiry : 30 NOV 2023) & ₹1240.0 (Expiry : 30 NOV 2023) with prices ₹18.45 (+43.02%) & ₹25.0 (+44.51%) respectively.Top active put options for Cipla at 17 Nov 14:42 were at strike price of ₹1250.0 (Expiry : 30 NOV 2023) & ₹1200.0 (Expiry : 30 NOV 2023) with prices ₹14.0 (-38.46%) & ₹3.1 (-37.37%) respectively.Disclaimer: The Futures & Options data is at a delay of 15 minutes. \", \"image\": {\n",
    "'''"
   ]
  },
  {
   "cell_type": "code",
   "execution_count": 84,
   "id": "1a38cbea-0d75-4dc4-bc35-e39d09ed1f74",
   "metadata": {},
   "outputs": [],
   "source": [
    "import re"
   ]
  },
  {
   "cell_type": "code",
   "execution_count": 102,
   "id": "2842360e-cae6-476d-8435-767e28fd36f6",
   "metadata": {},
   "outputs": [
    {
     "data": {
      "text/plain": [
       "'\"articleBody\": \"Cipla\\'s stock opened at  ₹1238.95 and closed at  ₹1234.85 on the last trading day. The high for the day was  ₹1256 and the low was  ₹1235.25. The market cap stands at 100734.03 cr, with a 52-week high of  ₹1277.55 and a 52-week low of  ₹852. The BSE volume for the day was 25139 shares.Disclaimer: This is an AI-generated live blog and has not been edited by LiveMint staff.\\n\"'"
      ]
     },
     "execution_count": 102,
     "metadata": {},
     "output_type": "execute_result"
    }
   ],
   "source": [
    "# Regular expression to extract the articleBody text\n",
    "regex = r'\"articleBody\"\\s*:\\s*\"(.*),\\s*\"\\w+\"\\s*:'\n",
    "\n",
    "regex1 = r'\"articleBody\"\\s*:\\s*\"([^\"]*)\"'\n",
    "\n",
    "# Extracting the articleBody text\n",
    "match = re.search(regex1, all_texts[0]['json_lrd_texts'][1], flags=re.M)\n",
    "extracted_text = match.group(0) if match else \"No match found\"\n",
    "extracted_text"
   ]
  },
  {
   "cell_type": "code",
   "execution_count": 96,
   "id": "e599f8f0-04d3-4d0a-a58a-7d30e5852b83",
   "metadata": {},
   "outputs": [],
   "source": [
    "# help(re)"
   ]
  },
  {
   "cell_type": "code",
   "execution_count": 103,
   "id": "9dcf828d-6c25-4c54-a6a3-ab138a5fc6b1",
   "metadata": {},
   "outputs": [
    {
     "data": {
      "text/plain": [
       "'\"articleBody\": \" Top active call options for Cipla at 17 Nov 14:42 were at strike price of ₹1250.0 (Expiry : 30 NOV 2023) & ₹1240.0 (Expiry : 30 NOV 2023) with prices ₹18.45 (+43.02%) & ₹25.0 (+44.51%) respectively.Top active put options for Cipla at 17 Nov 14:42 were at strike price of ₹1250.0 (Expiry : 30 NOV 2023) & ₹1200.0 (Expiry : 30 NOV 2023) with prices ₹14.0 (-38.46%) & ₹3.1 (-37.37%) respectively.Disclaimer: The Futures & Options data is at a delay of 15 minutes. \"'"
      ]
     },
     "execution_count": 103,
     "metadata": {},
     "output_type": "execute_result"
    }
   ],
   "source": [
    "match = re.search(regex1, mm, flags=re.M)\n",
    "extracted_text = match.group(0) if match else \"No match found\"\n",
    "extracted_text"
   ]
  },
  {
   "cell_type": "code",
   "execution_count": null,
   "id": "f989f287-9dfe-4736-b297-bdeb6b4e0a27",
   "metadata": {},
   "outputs": [],
   "source": []
  }
 ],
 "metadata": {
  "kernelspec": {
   "display_name": "Python 3 (ipykernel)",
   "language": "python",
   "name": "python3"
  },
  "language_info": {
   "codemirror_mode": {
    "name": "ipython",
    "version": 3
   },
   "file_extension": ".py",
   "mimetype": "text/x-python",
   "name": "python",
   "nbconvert_exporter": "python",
   "pygments_lexer": "ipython3",
   "version": "3.10.12"
  }
 },
 "nbformat": 4,
 "nbformat_minor": 5
}
